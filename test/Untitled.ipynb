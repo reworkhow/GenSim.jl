{
 "cells": [
  {
   "cell_type": "code",
   "execution_count": 1,
   "id": "f006508a",
   "metadata": {},
   "outputs": [
    {
     "name": "stderr",
     "output_type": "stream",
     "text": [
      "\u001b[32m\u001b[1m Installing\u001b[22m\u001b[39m known registries into `~/.julia`\n",
      "######################################################################### 100.0%\n"
     ]
    },
    {
     "ename": "LoadError",
     "evalue": "\u001b[91mSystemError: opening file \"/Users/jchen/.julia/registries/General/Registry.toml\": No such file or directory\u001b[39m",
     "output_type": "error",
     "traceback": [
      "\u001b[91mSystemError: opening file \"/Users/jchen/.julia/registries/General/Registry.toml\": No such file or directory\u001b[39m",
      "",
      "Stacktrace:",
      " [1] systemerror(::String, ::Int32; extrainfo::Nothing) at ./error.jl:168",
      " [2] #systemerror#48 at ./error.jl:167 [inlined]",
      " [3] systemerror at ./error.jl:167 [inlined]",
      " [4] open(::String; lock::Bool, read::Nothing, write::Nothing, create::Nothing, truncate::Nothing, append::Nothing) at ./iostream.jl:284",
      " [5] open at ./iostream.jl:273 [inlined]",
      " [6] open(::Base.var\"#294#295\"{Tuple{}}, ::String; kwargs::Base.Iterators.Pairs{Union{},Union{},Tuple{},NamedTuple{(),Tuple{}}}) at ./io.jl:323",
      " [7] open at ./io.jl:323 [inlined]",
      " [8] read at ./io.jl:408 [inlined]",
      " [9] parsefile at /Users/julia/buildbot/worker/package_macos64/build/usr/share/julia/stdlib/v1.5/Pkg/ext/TOML/src/TOML.jl:50 [inlined]",
      " [10] read_registry(::String; cache::Bool) at /Users/julia/buildbot/worker/package_macos64/build/usr/share/julia/stdlib/v1.5/Pkg/src/Types.jl:1044",
      " [11] read_registry at /Users/julia/buildbot/worker/package_macos64/build/usr/share/julia/stdlib/v1.5/Pkg/src/Types.jl:1039 [inlined]",
      " [12] (::Pkg.Types.var\"#94#97\"{Pkg.Types.Context,String,Pkg.Types.RegistrySpec})(::String) at /Users/julia/buildbot/worker/package_macos64/build/usr/share/julia/stdlib/v1.5/Pkg/src/Types.jl:1016",
      " [13] mktempdir(::Pkg.Types.var\"#94#97\"{Pkg.Types.Context,String,Pkg.Types.RegistrySpec}, ::String; prefix::String) at ./file.jl:709",
      " [14] mktempdir at ./file.jl:707 [inlined] (repeats 2 times)",
      " [15] clone_or_cp_registries(::Pkg.Types.Context, ::Array{Pkg.Types.RegistrySpec,1}, ::String) at /Users/julia/buildbot/worker/package_macos64/build/usr/share/julia/stdlib/v1.5/Pkg/src/Types.jl:980",
      " [16] clone_or_cp_registries at /Users/julia/buildbot/worker/package_macos64/build/usr/share/julia/stdlib/v1.5/Pkg/src/Types.jl:973 [inlined]",
      " [17] clone_default_registries(::Pkg.Types.Context; only_if_empty::Bool) at /Users/julia/buildbot/worker/package_macos64/build/usr/share/julia/stdlib/v1.5/Pkg/src/Types.jl:874",
      " [18] clone_default_registries at /Users/julia/buildbot/worker/package_macos64/build/usr/share/julia/stdlib/v1.5/Pkg/src/Types.jl:862 [inlined]",
      " [19] find_registered!(::Pkg.Types.Context, ::Array{String,1}, ::Array{Base.UUID,1}) at /Users/julia/buildbot/worker/package_macos64/build/usr/share/julia/stdlib/v1.5/Pkg/src/Types.jl:1239",
      " [20] registry_resolve!(::Pkg.Types.Context, ::Array{Pkg.Types.PackageSpec,1}) at /Users/julia/buildbot/worker/package_macos64/build/usr/share/julia/stdlib/v1.5/Pkg/src/Types.jl:770",
      " [21] registry_resolve! at /Users/julia/buildbot/worker/package_macos64/build/usr/share/julia/stdlib/v1.5/Pkg/src/Types.jl:763 [inlined]",
      " [22] set_repo_source_from_registry!(::Pkg.Types.Context, ::Pkg.Types.PackageSpec) at /Users/julia/buildbot/worker/package_macos64/build/usr/share/julia/stdlib/v1.5/Pkg/src/Types.jl:541",
      " [23] handle_repo_add!(::Pkg.Types.Context, ::Pkg.Types.PackageSpec) at /Users/julia/buildbot/worker/package_macos64/build/usr/share/julia/stdlib/v1.5/Pkg/src/Types.jl:577",
      " [24] handle_repos_add!(::Pkg.Types.Context, ::Array{Pkg.Types.PackageSpec,1}) at /Users/julia/buildbot/worker/package_macos64/build/usr/share/julia/stdlib/v1.5/Pkg/src/Types.jl:663",
      " [25] add(::Pkg.Types.Context, ::Array{Pkg.Types.PackageSpec,1}; preserve::Pkg.Types.PreserveLevel, platform::Pkg.BinaryPlatforms.MacOS, kwargs::Base.Iterators.Pairs{Union{},Union{},Tuple{},NamedTuple{(),Tuple{}}}) at /Users/julia/buildbot/worker/package_macos64/build/usr/share/julia/stdlib/v1.5/Pkg/src/API.jl:168",
      " [26] add(::Pkg.Types.Context, ::Array{Pkg.Types.PackageSpec,1}) at /Users/julia/buildbot/worker/package_macos64/build/usr/share/julia/stdlib/v1.5/Pkg/src/API.jl:139",
      " [27] #add#21 at /Users/julia/buildbot/worker/package_macos64/build/usr/share/julia/stdlib/v1.5/Pkg/src/API.jl:67 [inlined]",
      " [28] add at /Users/julia/buildbot/worker/package_macos64/build/usr/share/julia/stdlib/v1.5/Pkg/src/API.jl:67 [inlined]",
      " [29] #add#19 at /Users/julia/buildbot/worker/package_macos64/build/usr/share/julia/stdlib/v1.5/Pkg/src/API.jl:65 [inlined]",
      " [30] add(::Pkg.Types.PackageSpec) at /Users/julia/buildbot/worker/package_macos64/build/usr/share/julia/stdlib/v1.5/Pkg/src/API.jl:65",
      " [31] top-level scope at In[1]:2",
      " [32] include_string(::Function, ::Module, ::String, ::String) at ./loading.jl:1091"
     ]
    }
   ],
   "source": [
    "using Pkg\n",
    " Pkg.add(PackageSpec(name=\"XSim\", rev=\"master\"))"
   ]
  },
  {
   "cell_type": "code",
   "execution_count": 7,
   "id": "68f9bb3d",
   "metadata": {},
   "outputs": [
    {
     "name": "stderr",
     "output_type": "stream",
     "text": [
      "┌ Info: Installing Julia nodeps kernelspec in /Users/jchen/Library/Jupyter/kernels/julia-nodeps-1.5\n",
      "└ @ IJulia /Users/jchen/.julia/packages/IJulia/e8kqU/deps/kspec.jl:94\n"
     ]
    },
    {
     "data": {
      "text/plain": [
       "\"/Users/jchen/Library/Jupyter/kernels/julia-nodeps-1.5\""
      ]
     },
     "execution_count": 7,
     "metadata": {},
     "output_type": "execute_result"
    }
   ],
   "source": [
    "using XSim\n",
    "using IJulia\n",
    "IJulia.installkernel(\"Julia nodeps\", \"--depwarn=no\")"
   ]
  },
  {
   "cell_type": "code",
   "execution_count": 16,
   "id": "e121b35a",
   "metadata": {},
   "outputs": [
    {
     "name": "stdout",
     "output_type": "stream",
     "text": [
      "--------- Genome Summary ---------\n",
      "Number of Chromosome  : 10\n",
      "\n",
      "Chromosome Length (cM):\n",
      "[150.0, 150.0, 150.0, 150.0, 150.0, 150.0, 150.0, 150.0, 150.0, 150.0]\n",
      "\n",
      "Number of Loci        : 1000\n",
      "[100, 100, 100, 100, 100, 100, 100, 100, 100, 100]\n",
      "\n",
      "Genotyping Error      : 0.0\n",
      "Mutation Rate         : 0.0\n",
      "\n",
      "--------- Phenome Summary ---------\n",
      "Number of Traits      : 2\n",
      "Heritability (h2)     : [0.5, 0.5]\n",
      "Number of QTLs        : [3 8]\n"
     ]
    },
    {
     "name": "stderr",
     "output_type": "stream",
     "text": [
      "┌ Info: \n",
      "│   Genetic_Variance = [1.0 0.0; 0.0 1.0]\n",
      "└ @ XSim /Users/jchen/Dropbox/projects/XSim/src/core/build_phenome.jl:259\n",
      "┌ Info: \n",
      "│   Residual_Variance = [1.0 0.0; 0.0 1.0]\n",
      "└ @ XSim /Users/jchen/Dropbox/projects/XSim/src/core/build_phenome.jl:260\n"
     ]
    }
   ],
   "source": [
    "build_demo()"
   ]
  },
  {
   "cell_type": "code",
   "execution_count": 18,
   "id": "f0637981",
   "metadata": {},
   "outputs": [
    {
     "data": {
      "text/plain": [
       "Dict{Symbol,Real} with 4 entries:\n",
       "  :nA               => 3\n",
       "  :n_per_mate       => 2\n",
       "  :nB_per_A         => 5\n",
       "  :ratio_malefemale => 1.0"
      ]
     },
     "execution_count": 18,
     "metadata": {},
     "output_type": "execute_result"
    }
   ],
   "source": [
    "cohort = Cohort(30)\n",
    "\n",
    "XSim.get_genotypes(cohort)\n",
    "\n",
    "\n",
    "get_BVs(cohort)\n",
    "get_QTLs(cohort)\n",
    "\n",
    "\n",
    "sires = Cohort(5)\n",
    "dams  = Cohort(20)\n",
    "\n",
    "args_mate = Dict(:nA           => 3,\n",
    "                :nB_per_A     => 5,\n",
    "                :n_per_mate   => 2,\n",
    "                :ratio_malefemale => 1.0)\n",
    "\n"
   ]
  }
 ],
 "metadata": {
  "kernelspec": {
   "display_name": "Julia 1.5.4",
   "language": "julia",
   "name": "julia-1.5"
  },
  "language_info": {
   "file_extension": ".jl",
   "mimetype": "application/julia",
   "name": "julia",
   "version": "1.5.4"
  }
 },
 "nbformat": 4,
 "nbformat_minor": 5
}
